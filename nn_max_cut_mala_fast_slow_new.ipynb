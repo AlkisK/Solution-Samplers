{
  "cells": [
    {
      "cell_type": "code",
      "execution_count": null,
      "metadata": {
        "id": "CoMwYUpriJyZ"
      },
      "outputs": [],
      "source": [
        "import torch\n",
        "from glob import glob\n",
        "from torch.utils.data import Dataset, DataLoader\n",
        "from torchvision import datasets, transforms, models\n",
        "import numpy as np\n",
        "from IPython.display import clear_output\n",
        "from matplotlib.pyplot import *\n",
        "import networkx as nx"
      ]
    },
    {
      "cell_type": "code",
      "execution_count": null,
      "metadata": {
        "id": "heQhZ3MsovBQ"
      },
      "outputs": [],
      "source": [
        "device = torch.device(\"cpu\")"
      ]
    },
    {
      "cell_type": "code",
      "execution_count": null,
      "metadata": {
        "id": "EtSfmxCfiJyb"
      },
      "outputs": [],
      "source": [
        "import random\n",
        "\n",
        "class Sampler:\n",
        "    def __init__(self, model, img_shape, sample_size, max_len=8192, is_cold=True):\n",
        "        \"\"\"\n",
        "        Args:\n",
        "            model: Neural network to use for modeling E_theta\n",
        "            img_shape: Shape of the images to model\n",
        "            sample_size: Batch size of the samples\n",
        "            max_len: Maximum number of data points to keep in the buffer\n",
        "        \"\"\"\n",
        "        super().__init__()\n",
        "        self.model = model\n",
        "        self.img_shape = img_shape\n",
        "        self.sample_size = sample_size\n",
        "        self.max_len = max_len\n",
        "        self.examples = [(torch.rand((1,) + img_shape) * 2 - 1) for _ in range(self.sample_size)]\n",
        "        self.is_cold=is_cold\n",
        "\n",
        "    def sample_new_exmps(self, steps=60, step_size=10):\n",
        "        \"\"\"Function for getting a new batch of \"fake\" images.\n",
        "\n",
        "        Args:\n",
        "            steps: Number of iterations in the MCMC algorithm\n",
        "            step_size: Learning rate nu in the algorithm above\n",
        "        \"\"\"\n",
        "        # Choose 95% of the batch from the buffer, 5% generate from scratch\n",
        "        n_new = np.random.binomial(self.sample_size, 0.05)\n",
        "        rand_imgs = torch.rand((n_new,) + self.img_shape) * 2 - 1\n",
        "        old_imgs = torch.cat(random.choices(self.examples, k=self.sample_size - n_new), dim=0)\n",
        "        inp_imgs = torch.cat([rand_imgs, old_imgs], dim=0).detach()\n",
        "\n",
        "        # Perform MCMC sampling\n",
        "        inp_imgs = Sampler.generate_samples(self.model, inp_imgs, steps=steps, step_size=step_size, is_cold=self.is_cold)\n",
        "\n",
        "        # Add new images to the buffer and remove old ones if needed\n",
        "        self.examples = list(inp_imgs.to(torch.device(device)).chunk(self.sample_size, dim=0)) + self.examples\n",
        "        self.examples = self.examples[: self.max_len]\n",
        "        return inp_imgs\n",
        "\n",
        "    @staticmethod\n",
        "    def generate_samples(model, inp_imgs, steps=60, step_size=10, return_img_per_step=False, is_cold=True):\n",
        "        \"\"\"Function for sampling images for a given model.\n",
        "\n",
        "        Args:\n",
        "            model: Neural network to use for modeling E_theta\n",
        "            inp_imgs: Images to start from for sampling. If you want to generate new images, enter noise between -1 and 1.\n",
        "            steps: Number of iterations in the MCMC algorithm.\n",
        "            step_size: Learning rate nu in the algorithm above\n",
        "            return_img_per_step: If True, we return the sample at every iteration of the MCMC\n",
        "        \"\"\"\n",
        "        # Before MCMC: set model parameters to \"required_grad=False\"\n",
        "        # because we are only interested in the gradients of the input.\n",
        "        is_training = model.training\n",
        "        model.eval()\n",
        "        for p in model.parameters():\n",
        "            p.requires_grad = False\n",
        "        inp_imgs.requires_grad = True\n",
        "\n",
        "        # Enable gradient calculation if not already the case\n",
        "        had_gradients_enabled = torch.is_grad_enabled()\n",
        "        torch.set_grad_enabled(True)\n",
        "\n",
        "        # We use a buffer tensor in which we generate noise each loop iteration.\n",
        "        # More efficient than creating a new tensor every iteration.\n",
        "        noise = torch.randn(inp_imgs.shape, device=inp_imgs.device)\n",
        "\n",
        "        # List for storing generations at each step (for later analysis)\n",
        "        imgs_per_step = []\n",
        "\n",
        "        # Loop over K (steps)\n",
        "        for _ in range(steps):\n",
        "            # Part 1: Add noise to the input.\n",
        "            noise.normal_(0, 0.005)\n",
        "            inp_imgs.data.add_(noise.data)\n",
        "            inp_imgs.data.clamp_(min=-1.0, max=1.0)\n",
        "\n",
        "            # Part 2: calculate gradients for the current input.\n",
        "            if is_cold:\n",
        "                out_imgs = -model(inp_imgs, is_cold=True)\n",
        "            else:\n",
        "                out_imgs = -model(inp_imgs, is_cold=False)\n",
        "\n",
        "            out_imgs.sum().backward()\n",
        "            inp_imgs.grad.data.clamp_(-0.03, 0.03)  # For stabilizing and preventing too high gradients\n",
        "\n",
        "            # Apply gradients to our current samples\n",
        "            inp_imgs.data.add_(-step_size * inp_imgs.grad.data)\n",
        "            inp_imgs.grad.detach_()\n",
        "            inp_imgs.grad.zero_()\n",
        "            inp_imgs.data.clamp_(min=-1.0, max=1.0)\n",
        "\n",
        "            if return_img_per_step:\n",
        "                imgs_per_step.append(inp_imgs.clone().detach())\n",
        "\n",
        "        # Reactivate gradients for parameters for training\n",
        "        for p in model.parameters():\n",
        "            p.requires_grad = True\n",
        "        model.train(is_training)\n",
        "\n",
        "        # Reset gradient calculation to setting before this function\n",
        "        torch.set_grad_enabled(had_gradients_enabled)\n",
        "\n",
        "        if return_img_per_step:\n",
        "            return torch.stack(imgs_per_step, dim=0)\n",
        "        else:\n",
        "            return inp_imgs"
      ]
    },
    {
      "cell_type": "code",
      "execution_count": null,
      "metadata": {
        "id": "Iy9eKXr9iJyc"
      },
      "outputs": [],
      "source": [
        "class FastSlowMixture(torch.nn.Module):\n",
        "    def __init__(self, dimension, rho):\n",
        "        \"\"\"\n",
        "        The Model parameters.\n",
        "        \"\"\"\n",
        "        super().__init__()\n",
        "\n",
        "        self.l1 = torch.nn.Parameter(torch.empty(300, dimension))\n",
        "        torch.nn.init.kaiming_uniform_(self.l1, a=5**0.5)\n",
        "\n",
        "        self.l2 = torch.nn.Parameter(torch.empty(100, 300))\n",
        "        torch.nn.init.kaiming_uniform_(self.l2, a=5**0.5)\n",
        "\n",
        "        self.l3 = torch.nn.Parameter(torch.empty(1, 100))\n",
        "        torch.nn.init.kaiming_uniform_(self.l3, a=5**0.5)\n",
        "\n",
        "        self.a2 = torch.nn.ReLU()\n",
        "        self.a1 = torch.nn.ReLU()\n",
        "\n",
        "        self.rho = rho\n",
        "\n",
        "    def forward(self, x, is_cold=True):\n",
        "\n",
        "        temp = self.rho * (1. - is_cold) + is_cold\n",
        "\n",
        "        out = x\n",
        "        out = torch.nn.functional.linear(out, temp * self.l1)\n",
        "        out = self.a1(out)\n",
        "        out = torch.nn.functional.linear(out, temp * self.l2)\n",
        "        out = self.a2(out)\n",
        "        out = torch.nn.functional.linear(out, temp * self.l3)\n",
        "\n",
        "        return out\n",
        "\n"
      ]
    },
    {
      "cell_type": "code",
      "execution_count": null,
      "metadata": {
        "colab": {
          "base_uri": "https://localhost:8080/"
        },
        "id": "tmpP6BSTiJyd",
        "outputId": "84584641-c01d-4bd0-ee98-f6898a50a7f8"
      },
      "outputs": [
        {
          "name": "stdout",
          "output_type": "stream",
          "text": [
            "tensor([[-7.0711e-11],\n",
            "        [ 1.0363e-11]], grad_fn=<MmBackward0>)\n"
          ]
        }
      ],
      "source": [
        "with device:\n",
        "  net = FastSlowMixture(3, 0.001)\n",
        "  input = torch.tensor([[-1.,1.,1.], [0.1, 0.,-1.]])\n",
        "  print(net(input, is_cold=False))"
      ]
    },
    {
      "cell_type": "code",
      "execution_count": null,
      "metadata": {
        "id": "9DU3y0E0iJye"
      },
      "outputs": [],
      "source": [
        "def cost(G, batch):\n",
        "    return torch.einsum('ij, si, sj -> s', G, batch, batch)/4.\n",
        "\n",
        "\n",
        "def int_to_binary(num, length):\n",
        "  bin_str = bin(num)[2:]\n",
        "\n",
        "  # Pad the binary string with leading zeros as necessary\n",
        "  bin_str = '{:0>{}}'.format(bin_str, length)\n",
        "\n",
        "  # Convert the binary string to a binary vector\n",
        "  return torch.tensor([2*int(digit) - 1. for digit in bin_str])\n",
        "\n",
        "def P_value(cut_value, d, n):\n",
        "   return (cut_value/n - d/4.) / (d/4.)**(0.5)\n",
        "\n",
        "def max_cut_loss(log_density, P_value, reg_value=0.):\n",
        "    # dimension = torch.shape(L)[0]\n",
        "    # avg_degree = torch.mean(torch.diagonal(L))\n",
        "\n",
        "    log_density = log_density - torch.max(log_density)\n",
        "\n",
        "    loss = -torch.mean(P_value * log_density) + torch.mean(P_value) * torch.mean(log_density)\n",
        "\n",
        "    ent_reg =  reg_value * (torch.mean(log_density * log_density) - torch.mean(log_density) * torch.mean(log_density))\n",
        "\n",
        "    return loss + ent_reg\n"
      ]
    },
    {
      "cell_type": "code",
      "execution_count": null,
      "metadata": {
        "id": "0EVB52QqiJyf"
      },
      "outputs": [],
      "source": [
        "def vanilla_cut_optimizer(net, opt, mala_sampler, mala_steps, iterations, L):\n",
        "    losses_vanilla = []\n",
        "    out = None\n",
        "    degree = torch.mean(torch.diag(L))\n",
        "    dimension = L.shape[0]\n",
        "\n",
        "    for step in range(iterations):\n",
        "        net.train()\n",
        "        opt.zero_grad()\n",
        "        m = torch.nn.Softsign()\n",
        "        # m = torch.nn.Sigmoid()\n",
        "\n",
        "        # Mala sampling\n",
        "        X = torch.Tensor.detach(mala_sampler.sample_new_exmps(steps=mala_steps))\n",
        "        rounded_X = torch.sign(X)\n",
        "        # X = 2*m(X) - 1.\n",
        "        X = rounded_X\n",
        "\n",
        "        out = net(X).squeeze()\n",
        "        score = P_value(cost(L, X), degree, dimension)\n",
        "\n",
        "        loss = max_cut_loss(out, score)\n",
        "\n",
        "        rounded_score = P_value(cost(L, rounded_X), degree, dimension)\n",
        "\n",
        "        mean_score = torch.max(rounded_score).item()\n",
        "\n",
        "        if step % 10 == 0:\n",
        "            print(\"Step\", step, \"Mean Batch Score\", mean_score)\n",
        "\n",
        "        loss.backward()\n",
        "\n",
        "        opt.step()\n",
        "        losses_vanilla.append(mean_score)\n",
        "    return out, losses_vanilla\n"
      ]
    },
    {
      "cell_type": "code",
      "execution_count": null,
      "metadata": {
        "id": "KMwfIqXfiJyf"
      },
      "outputs": [],
      "source": [
        "def hot_cold_cut_optimizer(net, opt, mala_sampler_cold, mala_sampler_hot,\n",
        "                           mala_steps, iterations, L,\n",
        "                           reg_value, reg_updates, reg_scaling, mix_prob):\n",
        "    losses_regularized = []\n",
        "    cold_out = None\n",
        "\n",
        "    degree = torch.mean(torch.diag(L))\n",
        "    dimension = L.shape[0]\n",
        "\n",
        "    new_reg_value = reg_value\n",
        "    iter_split = np.array_split(np.array(range(iterations)), reg_updates)\n",
        "\n",
        "    total_iterations = 0\n",
        "\n",
        "    for x in iter_split:\n",
        "      reg_iterations = len(x)\n",
        "      new_reg_value = new_reg_value / reg_scaling\n",
        "\n",
        "      for step in range(reg_iterations):\n",
        "        net.train()\n",
        "        opt.zero_grad()\n",
        "\n",
        "\n",
        "        # Mala Sampling\n",
        "        cold_sample = torch.Tensor.detach(mala_sampler_cold.sample_new_exmps(steps=mala_steps))\n",
        "        cold_sample = torch.sign(cold_sample)\n",
        "        # m = torch.nn.Softsign()\n",
        "        # cold_sample = m(cold_sample)\n",
        "\n",
        "        cold_sample_rounded = torch.sign(cold_sample)\n",
        "\n",
        "        cold_out = net(cold_sample).squeeze()\n",
        "        score = P_value(cost(L, cold_sample), degree, dimension)\n",
        "        score_rounded = P_value(cost(L, cold_sample_rounded), degree, dimension)\n",
        "\n",
        "        loss = max_cut_loss(cold_out, score, reg_value=new_reg_value)\n",
        "\n",
        "\n",
        "        hot = torch.Tensor.detach(mala_sampler_hot.sample_new_exmps(steps=mala_steps))\n",
        "        hot = torch.sign(hot)\n",
        "        # hot = m(hot)\n",
        "\n",
        "        out_hot = net(hot, is_cold=False).squeeze()\n",
        "        score_hot = P_value(cost(L, hot), degree, dimension)\n",
        "\n",
        "        mean_score_hot = torch.mean(score_hot).item()\n",
        "        if (step + total_iterations) % 10 == 0:\n",
        "          print(\"Step\", step + total_iterations, \"The score of hot samples \", mean_score_hot, torch.mean(cost(L,hot)).item())\n",
        "\n",
        "        loss_hot = max_cut_loss(out_hot, score_hot)\n",
        "\n",
        "        loss = (1-mix_prob) * loss + mix_prob * loss_hot\n",
        "\n",
        "        loss.backward()\n",
        "\n",
        "        opt.step()\n",
        "\n",
        "        mean_score = torch.mean(score_rounded).item()\n",
        "\n",
        "        if (step + total_iterations) % 10 == 0:\n",
        "          print(\"Step\", step + total_iterations, \"The score of cold samples\", mean_score, torch.mean(cost(L, cold_sample)).item())\n",
        "\n",
        "        losses_regularized.append(mean_score)\n",
        "      total_iterations += reg_iterations\n",
        "    return cold_out, losses_regularized\n"
      ]
    },
    {
      "cell_type": "code",
      "execution_count": null,
      "metadata": {
        "id": "Lhnz22J8XDNo"
      },
      "outputs": [],
      "source": [
        "import cvxpy as cp\n",
        "import numpy as np\n",
        "import networkx as nx\n",
        "\n",
        "\n",
        "def goemans_williamson(G):\n",
        "    \"\"\"\n",
        "    Approximate max cut using Goemans-Williamson SDP relaxation.\n",
        "    \"\"\"\n",
        "\n",
        "    # Create variables\n",
        "    n = len(G)\n",
        "\n",
        "    X = cp.Variable((n, n), PSD=True)\n",
        "\n",
        "    # Create constraints\n",
        "    constraints = [cp.diag(X) == 1]\n",
        "    objective = cp.Maximize(cp.trace(X@G)/4)\n",
        "\n",
        "    # Define and solve problem\n",
        "    problem = cp.Problem(objective, constraints)\n",
        "    problem.solve()\n",
        "\n",
        "    # print(P_value(objective.value, degree, dimension))\n",
        "\n",
        "    # Random hyperplane\n",
        "    r = np.random.normal(size=(n, 1))\n",
        "\n",
        "    # Compute GW cut\n",
        "    cut = (np.dot(X.value, r) >= 0).flatten()\n",
        "    return 2*cut - 1.\n",
        "\n",
        "\n",
        "    # S = [i for i in range(n) if cut[i]]\n",
        "    # T = [i for i in range(n) if not cut[i]]\n",
        "\n",
        "    # return S, T"
      ]
    },
    {
      "cell_type": "code",
      "execution_count": null,
      "metadata": {
        "colab": {
          "base_uri": "https://localhost:8080/",
          "height": 1000
        },
        "id": "0BMDW9y6iJyg",
        "outputId": "b48d8189-a0bb-4e79-852b-78ea8d86f290"
      },
      "outputs": [
        {
          "name": "stdout",
          "output_type": "stream",
          "text": [
            "Avg Degree tensor(20., device='cuda:0')\n",
            "Trial: 0\n",
            "Step 0 Mean Batch Score 0.06082111969590187\n",
            "Step 10 Mean Batch Score 0.13953076303005219\n",
            "Step 20 Mean Batch Score 0.13953076303005219\n",
            "Step 30 Mean Batch Score 0.13953076303005219\n",
            "Step 40 Mean Batch Score 0.13953076303005219\n",
            "Step 50 Mean Batch Score 0.13953076303005219\n",
            "Step 60 Mean Batch Score 0.13953076303005219\n",
            "Step 70 Mean Batch Score 0.13953076303005219\n",
            "Step 80 Mean Batch Score 0.13953076303005219\n",
            "Step 90 Mean Batch Score 0.13953076303005219\n",
            "Step 100 Mean Batch Score 0.13953076303005219\n",
            "Step 110 Mean Batch Score 0.13953076303005219\n",
            "Step 120 Mean Batch Score 0.13953076303005219\n",
            "Step 130 Mean Batch Score 0.13953076303005219\n",
            "Step 140 Mean Batch Score 0.13953076303005219\n",
            "Step 150 Mean Batch Score 0.13953076303005219\n",
            "Step 160 Mean Batch Score 0.13953076303005219\n",
            "Step 170 Mean Batch Score 0.13953076303005219\n",
            "Step 180 Mean Batch Score 0.13953076303005219\n",
            "Step 190 Mean Batch Score 0.13953076303005219\n",
            "Step 200 Mean Batch Score 0.13953076303005219\n",
            "Step 210 Mean Batch Score 0.13953076303005219\n",
            "Step 220 Mean Batch Score 0.13953076303005219\n",
            "Step 230 Mean Batch Score 0.13953076303005219\n",
            "Step 240 Mean Batch Score 0.13953076303005219\n",
            "Step 250 Mean Batch Score 0.13953076303005219\n",
            "Step 260 Mean Batch Score 0.13953076303005219\n",
            "Step 270 Mean Batch Score 0.13953076303005219\n",
            "Step 280 Mean Batch Score 0.13953076303005219\n",
            "Step 290 Mean Batch Score 0.13953076303005219\n",
            "Step 300 Mean Batch Score 0.13953076303005219\n",
            "Step 310 Mean Batch Score 0.13953076303005219\n",
            "Step 320 Mean Batch Score 0.13953076303005219\n",
            "Step 330 Mean Batch Score 0.13953076303005219\n",
            "Step 340 Mean Batch Score 0.13953076303005219\n",
            "Step 350 Mean Batch Score 0.13953076303005219\n",
            "Step 360 Mean Batch Score 0.13953076303005219\n",
            "Step 370 Mean Batch Score 0.13953076303005219\n",
            "Step 380 Mean Batch Score 0.13953076303005219\n",
            "Step 390 Mean Batch Score 0.13953076303005219\n",
            "Step 400 Mean Batch Score 0.13953076303005219\n",
            "Step 410 Mean Batch Score 0.13953076303005219\n",
            "Step 420 Mean Batch Score 0.13953076303005219\n",
            "Step 430 Mean Batch Score 0.13953076303005219\n",
            "Step 440 Mean Batch Score 0.13953076303005219\n",
            "Step 450 Mean Batch Score 0.13953076303005219\n",
            "Step 460 Mean Batch Score 0.13953076303005219\n",
            "Step 470 Mean Batch Score 0.13953076303005219\n",
            "Step 480 Mean Batch Score 0.13953076303005219\n",
            "Step 490 Mean Batch Score 0.13953076303005219\n",
            "Step 500 Mean Batch Score 0.13953076303005219\n",
            "Step 510 Mean Batch Score 0.13953076303005219\n",
            "Step 520 Mean Batch Score 0.13953076303005219\n",
            "Step 530 Mean Batch Score 0.13953076303005219\n",
            "Step 540 Mean Batch Score 0.13953076303005219\n",
            "Step 550 Mean Batch Score 0.13953076303005219\n",
            "Step 560 Mean Batch Score 0.13953076303005219\n",
            "Step 570 Mean Batch Score 0.13953076303005219\n",
            "Step 580 Mean Batch Score 0.13953076303005219\n",
            "Step 590 Mean Batch Score 0.13953076303005219\n",
            "Step 600 Mean Batch Score 0.13953076303005219\n",
            "Step 610 Mean Batch Score 0.13953076303005219\n",
            "Step 620 Mean Batch Score 0.13953076303005219\n",
            "Step 630 Mean Batch Score 0.13953076303005219\n",
            "Step 640 Mean Batch Score 0.13953076303005219\n",
            "Step 650 Mean Batch Score 0.13953076303005219\n",
            "Step 660 Mean Batch Score 0.13953076303005219\n",
            "Step 670 Mean Batch Score 0.13953076303005219\n",
            "Step 680 Mean Batch Score 0.13953076303005219\n",
            "Step 690 Mean Batch Score 0.13953076303005219\n",
            "Step 700 Mean Batch Score 0.13953076303005219\n",
            "Step 710 Mean Batch Score 0.13953076303005219\n",
            "Step 720 Mean Batch Score 0.13953076303005219\n",
            "Step 730 Mean Batch Score 0.13953076303005219\n",
            "Step 740 Mean Batch Score 0.13953076303005219\n",
            "Step 750 Mean Batch Score 0.13953076303005219\n",
            "Step 760 Mean Batch Score 0.13953076303005219\n",
            "Step 770 Mean Batch Score 0.13953076303005219\n",
            "Step 780 Mean Batch Score 0.13953076303005219\n",
            "Step 790 Mean Batch Score 0.13953076303005219\n",
            "Step 800 Mean Batch Score 0.13953076303005219\n",
            "Step 810 Mean Batch Score 0.13953076303005219\n",
            "Step 820 Mean Batch Score 0.13953076303005219\n",
            "Step 830 Mean Batch Score 0.13953076303005219\n",
            "Step 840 Mean Batch Score 0.13953076303005219\n",
            "Step 850 Mean Batch Score 0.13953076303005219\n",
            "Step 860 Mean Batch Score 0.13953076303005219\n",
            "Step 870 Mean Batch Score 0.13953076303005219\n",
            "Step 880 Mean Batch Score 0.13953076303005219\n",
            "Step 890 Mean Batch Score 0.13953076303005219\n",
            "Step 900 Mean Batch Score 0.13953076303005219\n",
            "Step 910 Mean Batch Score 0.13953076303005219\n",
            "Step 920 Mean Batch Score 0.13953076303005219\n",
            "Step 930 Mean Batch Score 0.13953076303005219\n",
            "Step 940 Mean Batch Score 0.13953076303005219\n",
            "Step 950 Mean Batch Score 0.13953076303005219\n",
            "Step 960 Mean Batch Score 0.13953076303005219\n",
            "Step 970 Mean Batch Score 0.13953076303005219\n",
            "Step 980 Mean Batch Score 0.13953076303005219\n",
            "Step 990 Mean Batch Score 0.13953076303005219\n",
            "Step 0 The score of hot samples  -0.009212497621774673 2489.699951171875\n",
            "Step 0 The score of cold samples -0.004373651463538408 2495.10986328125\n",
            "Step 10 The score of hot samples  0.003255824325606227 2503.639892578125\n",
            "Step 10 The score of cold samples 0.0018873807275667787 2502.10986328125\n",
            "Step 20 The score of hot samples  -0.0010732156224548817 2498.800048828125\n",
            "Step 20 The score of cold samples -0.0017887245630845428 2498.0\n",
            "Step 30 The score of hot samples  0.0006083186599425972 2500.679931640625\n",
            "Step 30 The score of cold samples -0.0017887245630845428 2498.0\n",
            "Step 40 The score of hot samples  -0.0035865413956344128 2495.989990234375\n",
            "Step 40 The score of cold samples -0.0017887245630845428 2498.0\n",
            "Step 50 The score of hot samples  0.004991008900105953 2505.579833984375\n",
            "Step 50 The score of cold samples -0.0017887245630845428 2498.0\n",
            "Step 60 The score of hot samples  0.001985731767490506 2502.219970703125\n",
            "Step 60 The score of cold samples -0.0017887245630845428 2498.0\n",
            "Step 70 The score of hot samples  0.0016011293046176434 2501.7900390625\n",
            "Step 70 The score of cold samples -0.0017887245630845428 2498.0\n",
            "Step 80 The score of hot samples  0.00178895378485322 2502.0\n",
            "Step 80 The score of cold samples -0.0017887245630845428 2498.0\n",
            "Step 90 The score of hot samples  0.0005278140306472778 2500.58984375\n",
            "Step 90 The score of cold samples -0.0017887245630845428 2498.0\n",
            "Step 100 The score of hot samples  0.002719162032008171 2503.0400390625\n",
            "Step 100 The score of cold samples -0.0017887245630845428 2498.0\n",
            "Step 110 The score of hot samples  9.054318070411682e-06 2500.010009765625\n",
            "Step 110 The score of cold samples -0.0017887245630845428 2498.0\n",
            "Step 120 The score of hot samples  0.0014490809990093112 2501.619873046875\n",
            "Step 120 The score of cold samples -0.0017887245630845428 2498.0\n",
            "Step 130 The score of hot samples  0.0002952610666397959 2500.329833984375\n",
            "Step 130 The score of cold samples -0.0017887245630845428 2498.0\n",
            "Step 140 The score of hot samples  0.001976781990379095 2502.2099609375\n",
            "Step 140 The score of cold samples -0.0017887245630845428 2498.0\n",
            "Step 150 The score of hot samples  0.004749511368572712 2505.31005859375\n",
            "Step 150 The score of cold samples -0.0017887245630845428 2498.0\n",
            "Step 160 The score of hot samples  -0.0017350876005366445 2498.06005859375\n",
            "Step 160 The score of cold samples -0.0017887245630845428 2498.0\n",
            "Step 170 The score of hot samples  0.0008855857304297388 2500.989990234375\n",
            "Step 170 The score of cold samples -0.0017887245630845428 2498.0\n",
            "Step 180 The score of hot samples  -0.0017440269002690911 2498.050048828125\n",
            "Step 180 The score of cold samples -0.0017887245630845428 2498.0\n",
            "Step 190 The score of hot samples  0.0005188728682696819 2500.579833984375\n",
            "Step 190 The score of cold samples -0.0017887245630845428 2498.0\n",
            "Step 200 The score of hot samples  -8.040204556891695e-05 2499.909912109375\n",
            "Step 200 The score of cold samples -0.0017887245630845428 2498.0\n",
            "Step 210 The score of hot samples  -0.0035418295301496983 2496.0400390625\n",
            "Step 210 The score of cold samples -0.0017887245630845428 2498.0\n",
            "Step 220 The score of hot samples  8.060038089752197e-05 2500.08984375\n",
            "Step 220 The score of cold samples -0.0017887245630845428 2498.0\n",
            "Step 230 The score of hot samples  0.00013426467194221914 2500.14990234375\n",
            "Step 230 The score of cold samples -0.0017887245630845428 2498.0\n",
            "Step 240 The score of hot samples  -0.0026831876020878553 2497.0\n",
            "Step 240 The score of cold samples -0.0017887245630845428 2498.0\n",
            "Step 250 The score of hot samples  -0.0016635312931612134 2498.139892578125\n",
            "Step 250 The score of cold samples -0.0017887245630845428 2498.0\n",
            "Step 260 The score of hot samples  0.0013417396694421768 2501.5\n",
            "Step 260 The score of cold samples -0.0017887245630845428 2498.0\n",
            "Step 270 The score of hot samples  0.0010108064161613584 2501.1298828125\n",
            "Step 270 The score of cold samples -0.0017887245630845428 2498.0\n",
            "Step 280 The score of hot samples  -0.002271742559969425 2497.4599609375\n",
            "Step 280 The score of cold samples -0.0017887245630845428 2498.0\n",
            "Step 290 The score of hot samples  -0.0003934504056815058 2499.56005859375\n",
            "Step 290 The score of cold samples -0.0017887245630845428 2498.0\n",
            "Step 300 The score of hot samples  -0.0019944675732403994 2497.77001953125\n",
            "Step 300 The score of cold samples -0.0017887245630845428 2498.0\n",
            "Step 310 The score of hot samples  0.0012970182579010725 2501.449951171875\n",
            "Step 310 The score of cold samples -0.0017887245630845428 2498.0\n",
            "Step 320 The score of hot samples  0.00197678804397583 2502.2099609375\n",
            "Step 320 The score of cold samples -0.0017887245630845428 2498.0\n",
            "Step 330 The score of hot samples  5.3770017984788865e-05 2500.06005859375\n",
            "Step 330 The score of cold samples -0.0017887245630845428 2498.0\n",
            "Step 340 The score of hot samples  -0.0048476955853402615 2494.579833984375\n",
            "Step 340 The score of cold samples -0.0017887245630845428 2498.0\n",
            "Step 350 The score of hot samples  0.003711977507919073 2504.14990234375\n",
            "Step 350 The score of cold samples -0.0017887245630845428 2498.0\n",
            "Step 360 The score of hot samples  2.6931911634164862e-05 2500.030029296875\n",
            "Step 360 The score of cold samples -0.0017887245630845428 2498.0\n",
            "Step 370 The score of hot samples  -0.0005633863038383424 2499.369873046875\n",
            "Step 370 The score of cold samples -0.0017887245630845428 2498.0\n",
            "Step 380 The score of hot samples  0.0038819152396172285 2504.33984375\n",
            "Step 380 The score of cold samples -0.0017887245630845428 2498.0\n",
            "Step 390 The score of hot samples  0.0013685766607522964 2501.530029296875\n",
            "Step 390 The score of cold samples -0.0017887245630845428 2498.0\n",
            "Step 400 The score of hot samples  -0.0022538548801094294 2497.47998046875\n",
            "Step 400 The score of cold samples -0.0017887245630845428 2498.0\n",
            "Step 410 The score of hot samples  -0.00023244797193910927 2499.739990234375\n",
            "Step 410 The score of cold samples -0.0017887245630845428 2498.0\n",
            "Step 420 The score of hot samples  -0.005259132478386164 2494.119873046875\n",
            "Step 420 The score of cold samples -0.0017887245630845428 2498.0\n",
            "Step 430 The score of hot samples  -0.0021554604172706604 2497.58984375\n",
            "Step 430 The score of cold samples -0.0017887245630845428 2498.0\n",
            "Step 440 The score of hot samples  -0.0018066290067508817 2497.97998046875\n",
            "Step 440 The score of cold samples -0.0017887245630845428 2498.0\n",
            "Step 450 The score of hot samples  -0.00474930414929986 2494.68994140625\n",
            "Step 450 The score of cold samples -0.0017887245630845428 2498.0\n",
            "Step 460 The score of hot samples  -0.0030946165788918734 2496.5400390625\n",
            "Step 460 The score of cold samples -0.0017887245630845428 2498.0\n",
            "Step 470 The score of hot samples  -0.00015194781008176506 2499.829833984375\n",
            "Step 470 The score of cold samples -0.0017887245630845428 2498.0\n",
            "Step 480 The score of hot samples  0.00013426184887066483 2500.14990234375\n",
            "Step 480 The score of cold samples -0.0017887245630845428 2498.0\n",
            "Step 490 The score of hot samples  -0.0011805434478446841 2498.679931640625\n",
            "Step 490 The score of cold samples -0.0017887245630845428 2498.0\n",
            "Step 500 The score of hot samples  -0.0007780506275594234 2499.1298828125\n",
            "Step 500 The score of cold samples -0.0017887245630845428 2498.0\n",
            "Step 510 The score of hot samples  -0.004051653202623129 2495.469970703125\n",
            "Step 510 The score of cold samples -0.0017887245630845428 2498.0\n",
            "Step 520 The score of hot samples  0.0006530386162921786 2500.72998046875\n",
            "Step 520 The score of cold samples -0.0017887245630845428 2498.0\n",
            "Step 530 The score of hot samples  0.002942774910479784 2503.2900390625\n",
            "Step 530 The score of cold samples -0.0017887245630845428 2498.0\n",
            "Step 540 The score of hot samples  0.0025849880184978247 2502.889892578125\n",
            "Step 540 The score of cold samples -0.0017887245630845428 2498.0\n",
            "Step 550 The score of hot samples  0.001663744100369513 2501.85986328125\n",
            "Step 550 The score of cold samples -0.0017887245630845428 2498.0\n",
            "Step 560 The score of hot samples  0.0019052347633987665 2502.1298828125\n",
            "Step 560 The score of cold samples -0.0017887245630845428 2498.0\n",
            "Step 570 The score of hot samples  -0.001797691104002297 2497.989990234375\n",
            "Step 570 The score of cold samples -0.0017887245630845428 2498.0\n"
          ]
        },
        {
          "ename": "KeyboardInterrupt",
          "evalue": "ignored",
          "output_type": "error",
          "traceback": [
            "\u001b[0;31m---------------------------------------------------------------------------\u001b[0m",
            "\u001b[0;31mKeyboardInterrupt\u001b[0m                         Traceback (most recent call last)",
            "\u001b[0;32m<ipython-input-45-70d43bebb8f8>\u001b[0m in \u001b[0;36m<cell line: 29>\u001b[0;34m()\u001b[0m\n\u001b[1;32m    102\u001b[0m     \u001b[0mmala_sampler_hot\u001b[0m \u001b[0;34m=\u001b[0m \u001b[0mSampler\u001b[0m\u001b[0;34m(\u001b[0m\u001b[0mnet\u001b[0m\u001b[0;34m,\u001b[0m \u001b[0;34m(\u001b[0m\u001b[0mdimension\u001b[0m\u001b[0;34m,\u001b[0m\u001b[0;34m)\u001b[0m\u001b[0;34m,\u001b[0m \u001b[0msample_size\u001b[0m\u001b[0;34m=\u001b[0m\u001b[0mbatch_size\u001b[0m\u001b[0;34m,\u001b[0m \u001b[0mmax_len\u001b[0m\u001b[0;34m=\u001b[0m\u001b[0;36m8192\u001b[0m\u001b[0;34m,\u001b[0m \u001b[0mis_cold\u001b[0m\u001b[0;34m=\u001b[0m\u001b[0;32mFalse\u001b[0m\u001b[0;34m)\u001b[0m\u001b[0;34m\u001b[0m\u001b[0;34m\u001b[0m\u001b[0m\n\u001b[1;32m    103\u001b[0m \u001b[0;34m\u001b[0m\u001b[0m\n\u001b[0;32m--> 104\u001b[0;31m     cold_out, losses_regularized = hot_cold_cut_optimizer(net, \n\u001b[0m\u001b[1;32m    105\u001b[0m                                                           \u001b[0mopt\u001b[0m\u001b[0;34m,\u001b[0m\u001b[0;34m\u001b[0m\u001b[0;34m\u001b[0m\u001b[0m\n\u001b[1;32m    106\u001b[0m                                                           \u001b[0mmala_sampler_cold\u001b[0m\u001b[0;34m=\u001b[0m\u001b[0mmala_sampler_cold\u001b[0m\u001b[0;34m,\u001b[0m\u001b[0;34m\u001b[0m\u001b[0;34m\u001b[0m\u001b[0m\n",
            "\u001b[0;32m<ipython-input-39-06eb75126b62>\u001b[0m in \u001b[0;36mhot_cold_cut_optimizer\u001b[0;34m(net, opt, mala_sampler_cold, mala_sampler_hot, mala_steps, iterations, L, reg_value, mix_prob)\u001b[0m\n\u001b[1;32m     23\u001b[0m \u001b[0;34m\u001b[0m\u001b[0m\n\u001b[1;32m     24\u001b[0m         \u001b[0;31m# Mala Sampling\u001b[0m\u001b[0;34m\u001b[0m\u001b[0;34m\u001b[0m\u001b[0m\n\u001b[0;32m---> 25\u001b[0;31m         \u001b[0mcold_sample\u001b[0m \u001b[0;34m=\u001b[0m \u001b[0mtorch\u001b[0m\u001b[0;34m.\u001b[0m\u001b[0mTensor\u001b[0m\u001b[0;34m.\u001b[0m\u001b[0mdetach\u001b[0m\u001b[0;34m(\u001b[0m\u001b[0mmala_sampler_cold\u001b[0m\u001b[0;34m.\u001b[0m\u001b[0msample_new_exmps\u001b[0m\u001b[0;34m(\u001b[0m\u001b[0msteps\u001b[0m\u001b[0;34m=\u001b[0m\u001b[0mmala_steps\u001b[0m\u001b[0;34m)\u001b[0m\u001b[0;34m)\u001b[0m\u001b[0;34m\u001b[0m\u001b[0;34m\u001b[0m\u001b[0m\n\u001b[0m\u001b[1;32m     26\u001b[0m         \u001b[0mcold_sample\u001b[0m \u001b[0;34m=\u001b[0m \u001b[0mtorch\u001b[0m\u001b[0;34m.\u001b[0m\u001b[0msign\u001b[0m\u001b[0;34m(\u001b[0m\u001b[0mcold_sample\u001b[0m\u001b[0;34m)\u001b[0m\u001b[0;34m\u001b[0m\u001b[0;34m\u001b[0m\u001b[0m\n\u001b[1;32m     27\u001b[0m         \u001b[0;31m# m = torch.nn.Softsign()\u001b[0m\u001b[0;34m\u001b[0m\u001b[0;34m\u001b[0m\u001b[0m\n",
            "\u001b[0;32m<ipython-input-9-4f6956776dbc>\u001b[0m in \u001b[0;36msample_new_exmps\u001b[0;34m(self, steps, step_size)\u001b[0m\n\u001b[1;32m     32\u001b[0m \u001b[0;34m\u001b[0m\u001b[0m\n\u001b[1;32m     33\u001b[0m         \u001b[0;31m# Perform MCMC sampling\u001b[0m\u001b[0;34m\u001b[0m\u001b[0;34m\u001b[0m\u001b[0m\n\u001b[0;32m---> 34\u001b[0;31m         \u001b[0minp_imgs\u001b[0m \u001b[0;34m=\u001b[0m \u001b[0mSampler\u001b[0m\u001b[0;34m.\u001b[0m\u001b[0mgenerate_samples\u001b[0m\u001b[0;34m(\u001b[0m\u001b[0mself\u001b[0m\u001b[0;34m.\u001b[0m\u001b[0mmodel\u001b[0m\u001b[0;34m,\u001b[0m \u001b[0minp_imgs\u001b[0m\u001b[0;34m,\u001b[0m \u001b[0msteps\u001b[0m\u001b[0;34m=\u001b[0m\u001b[0msteps\u001b[0m\u001b[0;34m,\u001b[0m \u001b[0mstep_size\u001b[0m\u001b[0;34m=\u001b[0m\u001b[0mstep_size\u001b[0m\u001b[0;34m,\u001b[0m \u001b[0mis_cold\u001b[0m\u001b[0;34m=\u001b[0m\u001b[0mself\u001b[0m\u001b[0;34m.\u001b[0m\u001b[0mis_cold\u001b[0m\u001b[0;34m)\u001b[0m\u001b[0;34m\u001b[0m\u001b[0;34m\u001b[0m\u001b[0m\n\u001b[0m\u001b[1;32m     35\u001b[0m \u001b[0;34m\u001b[0m\u001b[0m\n\u001b[1;32m     36\u001b[0m         \u001b[0;31m# Add new images to the buffer and remove old ones if needed\u001b[0m\u001b[0;34m\u001b[0m\u001b[0;34m\u001b[0m\u001b[0m\n",
            "\u001b[0;32m<ipython-input-9-4f6956776dbc>\u001b[0m in \u001b[0;36mgenerate_samples\u001b[0;34m(model, inp_imgs, steps, step_size, return_img_per_step, is_cold)\u001b[0m\n\u001b[1;32m     88\u001b[0m             \u001b[0minp_imgs\u001b[0m\u001b[0;34m.\u001b[0m\u001b[0mdata\u001b[0m\u001b[0;34m.\u001b[0m\u001b[0madd_\u001b[0m\u001b[0;34m(\u001b[0m\u001b[0;34m-\u001b[0m\u001b[0mstep_size\u001b[0m \u001b[0;34m*\u001b[0m \u001b[0minp_imgs\u001b[0m\u001b[0;34m.\u001b[0m\u001b[0mgrad\u001b[0m\u001b[0;34m.\u001b[0m\u001b[0mdata\u001b[0m\u001b[0;34m)\u001b[0m\u001b[0;34m\u001b[0m\u001b[0;34m\u001b[0m\u001b[0m\n\u001b[1;32m     89\u001b[0m             \u001b[0minp_imgs\u001b[0m\u001b[0;34m.\u001b[0m\u001b[0mgrad\u001b[0m\u001b[0;34m.\u001b[0m\u001b[0mdetach_\u001b[0m\u001b[0;34m(\u001b[0m\u001b[0;34m)\u001b[0m\u001b[0;34m\u001b[0m\u001b[0;34m\u001b[0m\u001b[0m\n\u001b[0;32m---> 90\u001b[0;31m             \u001b[0minp_imgs\u001b[0m\u001b[0;34m.\u001b[0m\u001b[0mgrad\u001b[0m\u001b[0;34m.\u001b[0m\u001b[0mzero_\u001b[0m\u001b[0;34m(\u001b[0m\u001b[0;34m)\u001b[0m\u001b[0;34m\u001b[0m\u001b[0;34m\u001b[0m\u001b[0m\n\u001b[0m\u001b[1;32m     91\u001b[0m             \u001b[0minp_imgs\u001b[0m\u001b[0;34m.\u001b[0m\u001b[0mdata\u001b[0m\u001b[0;34m.\u001b[0m\u001b[0mclamp_\u001b[0m\u001b[0;34m(\u001b[0m\u001b[0mmin\u001b[0m\u001b[0;34m=\u001b[0m\u001b[0;34m-\u001b[0m\u001b[0;36m1.0\u001b[0m\u001b[0;34m,\u001b[0m \u001b[0mmax\u001b[0m\u001b[0;34m=\u001b[0m\u001b[0;36m1.0\u001b[0m\u001b[0;34m)\u001b[0m\u001b[0;34m\u001b[0m\u001b[0;34m\u001b[0m\u001b[0m\n\u001b[1;32m     92\u001b[0m \u001b[0;34m\u001b[0m\u001b[0m\n",
            "\u001b[0;32m/usr/local/lib/python3.10/dist-packages/torch/utils/_device.py\u001b[0m in \u001b[0;36m__torch_function__\u001b[0;34m(self, func, types, args, kwargs)\u001b[0m\n\u001b[1;32m     60\u001b[0m         \u001b[0;32mif\u001b[0m \u001b[0mfunc\u001b[0m \u001b[0;32min\u001b[0m \u001b[0m_device_constructors\u001b[0m\u001b[0;34m(\u001b[0m\u001b[0;34m)\u001b[0m \u001b[0;32mand\u001b[0m \u001b[0mkwargs\u001b[0m\u001b[0;34m.\u001b[0m\u001b[0mget\u001b[0m\u001b[0;34m(\u001b[0m\u001b[0;34m'device'\u001b[0m\u001b[0;34m)\u001b[0m \u001b[0;32mis\u001b[0m \u001b[0;32mNone\u001b[0m\u001b[0;34m:\u001b[0m\u001b[0;34m\u001b[0m\u001b[0;34m\u001b[0m\u001b[0m\n\u001b[1;32m     61\u001b[0m             \u001b[0mkwargs\u001b[0m\u001b[0;34m[\u001b[0m\u001b[0;34m'device'\u001b[0m\u001b[0;34m]\u001b[0m \u001b[0;34m=\u001b[0m \u001b[0mself\u001b[0m\u001b[0;34m.\u001b[0m\u001b[0mdevice\u001b[0m\u001b[0;34m\u001b[0m\u001b[0;34m\u001b[0m\u001b[0m\n\u001b[0;32m---> 62\u001b[0;31m         \u001b[0;32mreturn\u001b[0m \u001b[0mfunc\u001b[0m\u001b[0;34m(\u001b[0m\u001b[0;34m*\u001b[0m\u001b[0margs\u001b[0m\u001b[0;34m,\u001b[0m \u001b[0;34m**\u001b[0m\u001b[0mkwargs\u001b[0m\u001b[0;34m)\u001b[0m\u001b[0;34m\u001b[0m\u001b[0;34m\u001b[0m\u001b[0m\n\u001b[0m\u001b[1;32m     63\u001b[0m \u001b[0;34m\u001b[0m\u001b[0m\n\u001b[1;32m     64\u001b[0m \u001b[0;31m# NB: This is directly called from C++ in torch/csrc/Device.cpp\u001b[0m\u001b[0;34m\u001b[0m\u001b[0;34m\u001b[0m\u001b[0m\n",
            "\u001b[0;31mKeyboardInterrupt\u001b[0m: "
          ]
        }
      ],
      "source": [
        "import time\n",
        "t0 = time.time()\n",
        "\n",
        "# with torch.profiler.profile(activities=[torch.profiler.ProfilerActivity.CUDA], record_shapes=True) as prof:\n",
        "#     with torch.profiler.record_function(\"model_inference\"):\n",
        "\n",
        "trials = 2\n",
        "dimension = 500\n",
        "degree = 20\n",
        "iterations_vanilla = 1000\n",
        "iterations_regularized = 1000\n",
        "step_size = 0.003\n",
        "batch_size = 200\n",
        "mala_steps = 1000\n",
        "find_opt = False\n",
        "new_reg_value = 5.\n",
        "mix_prob = 0.05\n",
        "rho = 0.03\n",
        "\n",
        "optimal_values = []\n",
        "vanilla_trajectories = []\n",
        "\n",
        "vanilla_scores = []\n",
        "reg_trajectories = []\n",
        "\n",
        "reg_scores = []\n",
        "cut_value_list = []\n",
        "\n",
        "for j in range(trials):\n",
        "  G = nx.to_numpy_array(\n",
        "      # nx.generators.random_graphs.gnp_random_graph(dimension, 0.5)).astype(int)\n",
        "      nx.generators.random_graphs.random_regular_graph(degree, dimension)).astype(int)\n",
        "\n",
        "\n",
        "  Gt = torch.tensor(G, dtype=torch.float)\n",
        "\n",
        "  L = (torch.diag(torch.sum(Gt, axis=1)) - Gt).to(device)\n",
        "  degree = torch.mean(torch.diag(L))\n",
        "  print(\"Avg Degree\", degree)\n",
        "\n",
        "  if find_opt:\n",
        "\n",
        "    def s(n):\n",
        "        return np.array( [int(x) for x in bin(2**dimension + n)[2:]][1:] )\n",
        "    def cut(n):\n",
        "        return np.sum( G & (s(n)[:,None] < s(n)) )\n",
        "    def st(n):\n",
        "        return torch.tensor( [int(x) for x in bin(2**dimension + n)[2:]][1:] ).float()\n",
        "\n",
        "    X = torch.stack([st(i) for i in range(2**dimension)])\n",
        "    y = torch.tensor([cut(i) for i in range(2**dimension)]).float()\n",
        "    opt = torch.max(y)\n",
        "    print(\"The value of Max-Cut is:\", P_value(torch.max(y), degree, dimension), torch.max(y))\n",
        "\n",
        "  else:\n",
        "    y = []\n",
        "    opt = -1.\n",
        "\n",
        "  print(\"Trial:\", j)\n",
        "\n",
        "  cut_value_list.append(y)\n",
        "  optimal_values.append(opt)\n",
        "\n",
        "  # GW baseline\n",
        "\n",
        "  # G = (np.diag(np.sum(G, axis=1)) - G).astype(float)\n",
        "  # Lnp = L.numpy()\n",
        "\n",
        "  # gw_cut = torch.tensor(\n",
        "  #     [goemans_williamson( L.numpy() ) ], dtype=torch.float32)\n",
        "  # print(gw_cut)\n",
        "  # print(L)\n",
        "  # gw_cost = cost(L, gw_cut)\n",
        "  # print(gw_cut)\n",
        "  # print(G)\n",
        "  # print(\"GW Score\", P_value(gw_cost, degree, dimension) )\n",
        "\n",
        "  # Vanilla Cut Optimizer\n",
        "  with device:\n",
        "\n",
        "    net = FastSlowMixture(dimension, 1.)\n",
        "    # Define Optimizer\n",
        "    opt = torch.optim.Adam(net.parameters(), lr=step_size)\n",
        "\n",
        "    # Define MALA sampler\n",
        "    mala_sampler = Sampler(net, (dimension,), sample_size=batch_size, max_len=8192, is_cold=True)\n",
        "\n",
        "    out, losses_vanilla = vanilla_cut_optimizer(\n",
        "        net, opt, mala_sampler, mala_steps=mala_steps,\n",
        "         iterations=iterations_vanilla, L=L)\n",
        "\n",
        "  vanilla_scores.append(out)\n",
        "  vanilla_trajectories.append(losses_vanilla)\n",
        "\n",
        "  with device:\n",
        "    net = FastSlowMixture(dimension, rho)\n",
        "\n",
        "    opt = torch.optim.Adam(net.parameters(), lr=step_size)\n",
        "\n",
        "    # Define MALA sampler\n",
        "    mala_sampler_cold = Sampler(net, (dimension,), sample_size=batch_size, max_len=8192, is_cold=True)\n",
        "    mala_sampler_hot = Sampler(net, (dimension,), sample_size=batch_size, max_len=8192, is_cold=False)\n",
        "\n",
        "    cold_out, losses_regularized = hot_cold_cut_optimizer(net,\n",
        "                                                          opt,\n",
        "                                                          mala_sampler_cold=mala_sampler_cold,\n",
        "                                                          mala_sampler_hot=mala_sampler_hot,\n",
        "                                                          mala_steps=mala_steps,\n",
        "                                                          iterations=iterations_regularized,\n",
        "                                                          L=L,\n",
        "                                                          reg_value=new_reg_value,\n",
        "                                                          mix_prob=mix_prob)\n",
        "\n",
        "  reg_scores.append(cold_out)\n",
        "  reg_trajectories.append(losses_regularized)\n",
        "\n",
        "\n",
        "t1 = time.time()\n",
        "print(t1-t0)"
      ]
    },
    {
      "cell_type": "markdown",
      "metadata": {
        "id": "COg63nS1iJyh"
      },
      "source": [
        "# Generate Plots"
      ]
    },
    {
      "cell_type": "code",
      "execution_count": null,
      "metadata": {
        "id": "dMUTnQmDiJyi"
      },
      "outputs": [],
      "source": [
        "def gen_trajectory_plots(reg_trajectories, vanilla_trajectories):\n",
        "\n",
        "  for  reg_trajectory, vanilla_trajectory in zip(\n",
        "      reg_trajectories, vanilla_trajectories):\n",
        "\n",
        "    figure()\n",
        "    plot(np.array(reg_trajectory), label='Fast/SLoss')\n",
        "    plot(np.array(vanilla_trajectory), label='Vanilla Loss')\n",
        "    legend()\n",
        "    show()\n",
        ""
      ]
    },
    {
      "cell_type": "code",
      "execution_count": null,
      "metadata": {
        "colab": {
          "base_uri": "https://localhost:8080/",
          "height": 1000
        },
        "id": "Auqs55fiiJyk",
        "outputId": "a31a7bd1-500f-4538-d447-237d9db1c4be"
      },
      "outputs": [
        {
          "data": {
            "image/png": "[encoded data removed]",
            "text/plain": [
              "<Figure size 640x480 with 1 Axes>"
            ]
          },
          "metadata": {},
          "output_type": "display_data"
        },
        {
          "data": {
            "image/png": "[encoded data removed]",
            "text/plain": [
              "<Figure size 640x480 with 1 Axes>"
            ]
          },
          "metadata": {},
          "output_type": "display_data"
        },
        {
          "data": {
            "image/png": "[encoded data removed]",
            "text/plain": [
              "<Figure size 640x480 with 1 Axes>"
            ]
          },
          "metadata": {},
          "output_type": "display_data"
        }
      ],
      "source": [
        "gen_trajectory_plots(reg_trajectories, vanilla_trajectories)"
      ]
    },
    {
      "cell_type": "code",
      "execution_count": null,
      "metadata": {
        "id": "tiIUHUYCiJyl"
      },
      "outputs": [],
      "source": [
        "def successful_runs(opt_values, trajectories):\n",
        "    num = 0\n",
        "    total = 0\n",
        "    for opt, trajectory in zip(opt_values, trajectories):\n",
        "        results = -np.array(trajectory)\n",
        "        best_score = max(results)\n",
        "        if abs(opt - best_score) < 0.95 :\n",
        "            num = num + 1\n",
        "        total = total + 1\n",
        "\n",
        "    return (total, num)\n",
        "\n"
      ]
    },
    {
      "cell_type": "code",
      "execution_count": null,
      "metadata": {
        "id": "aeNoiaI3iJym",
        "outputId": "1eb5508c-a757-4192-bdf2-bed7cdf89cac"
      },
      "outputs": [
        {
          "data": {
            "text/plain": [
              "(5, 0)"
            ]
          },
          "execution_count": 30,
          "metadata": {},
          "output_type": "execute_result"
        }
      ],
      "source": [
        "successful_runs(-4*torch.stack(optimal_values), vanilla_trajectories)"
      ]
    },
    {
      "cell_type": "code",
      "execution_count": null,
      "metadata": {
        "id": "ZP_X8_7siJyn",
        "outputId": "07157689-5251-46c5-bb54-58930195b59a"
      },
      "outputs": [
        {
          "data": {
            "text/plain": [
              "(5, 0)"
            ]
          },
          "execution_count": 32,
          "metadata": {},
          "output_type": "execute_result"
        }
      ],
      "source": [
        "successful_runs(-4* torch.stack(optimal_values), reg_trajectories)"
      ]
    },
    {
      "cell_type": "code",
      "execution_count": null,
      "metadata": {
        "id": "LUmjKZajiJyn",
        "outputId": "cd9a9da4-8de0-4ee6-84ba-7bfb25c3364e"
      },
      "outputs": [
        {
          "data": {
            "text/plain": [
              "[132.0, 148.0, 152.0, 148.1199951171875, 152.0399932861328]"
            ]
          },
          "execution_count": 38,
          "metadata": {},
          "output_type": "execute_result"
        }
      ],
      "source": [
        "[max(x) for x in vanilla_trajectories]"
      ]
    },
    {
      "cell_type": "code",
      "execution_count": null,
      "metadata": {
        "id": "r76StMQpiJyo",
        "outputId": "955b4299-03c6-42b3-9a85-c59dddc1e121"
      },
      "outputs": [
        {
          "data": {
            "text/plain": [
              "[144.0, 164.0, 163.0, 175.32000732421875, 159.39999389648438]"
            ]
          },
          "execution_count": 39,
          "metadata": {},
          "output_type": "execute_result"
        }
      ],
      "source": [
        "[max(x) for x in reg_trajectories]"
      ]
    },
    {
      "cell_type": "markdown",
      "metadata": {
        "id": "NKzzORbEWtgT"
      },
      "source": [
        "# Create Max-Cut Instance"
      ]
    },
    {
      "cell_type": "code",
      "execution_count": null,
      "metadata": {
        "id": "jIShYwIuWsHM"
      },
      "outputs": [],
      "source": [
        "dimension = 500\n",
        "degree = 20\n",
        "find_opt = False\n",
        "\n",
        "optimal_values = []\n",
        "vanilla_trajectories = []\n",
        "\n",
        "vanilla_scores = []\n",
        "reg_trajectories = []\n",
        "\n",
        "reg_scores = []\n",
        "cut_value_list = []\n",
        "\n",
        "G = nx.to_numpy_array(\n",
        "    # nx.generators.random_graphs.gnp_random_graph(dimension, 0.5)).astype(int)\n",
        "    nx.generators.random_graphs.random_regular_graph(degree, dimension)).astype(int)\n",
        "\n",
        "Gt = torch.tensor(G, dtype=torch.float)\n",
        "\n",
        "L = (torch.diag(torch.sum(Gt, axis=1)) - Gt).to(device)\n",
        "\n",
        "if find_opt:\n",
        "\n",
        "  def s(n):\n",
        "      return np.array( [int(x) for x in bin(2**dimension + n)[2:]][1:] )\n",
        "  def cut(n):\n",
        "      return np.sum( G & (s(n)[:,None] < s(n)) )\n",
        "  def st(n):\n",
        "      return torch.tensor( [int(x) for x in bin(2**dimension + n)[2:]][1:] ).float()\n",
        "\n",
        "  X = torch.stack([st(i) for i in range(2**dimension)])\n",
        "  y = torch.tensor([cut(i) for i in range(2**dimension)]).float()\n",
        "  opt = torch.max(y)\n",
        "  print(\"The (normalized) value of Max-Cut is:\",\n",
        "        P_value(torch.max(y), degree, dimension))\n",
        "\n",
        "else:\n",
        "  y = []\n",
        "  opt = -1.\n",
        "\n",
        "\n",
        "cut_value_list.append(y)\n",
        "optimal_values.append(opt)\n"
      ]
    },
    {
      "cell_type": "markdown",
      "metadata": {
        "id": "9Ln4h3ojMxRv"
      },
      "source": [
        "# Vanilla"
      ]
    },
    {
      "cell_type": "code",
      "execution_count": null,
      "metadata": {
        "colab": {
          "base_uri": "https://localhost:8080/"
        },
        "id": "wvNixtmqLk4_",
        "outputId": "b58fc583-fe91-4fc4-9b43-8f17477a02db"
      },
      "outputs": [
        {
          "name": "stdout",
          "output_type": "stream",
          "text": [
            "Step 0 Mean Batch Score 0.06082111969590187\n",
            "Step 10 Mean Batch Score 0.11627563834190369\n",
            "Step 20 Mean Batch Score 0.137741819024086\n",
            "Step 30 Mean Batch Score 0.14668609201908112\n",
            "Step 40 Mean Batch Score 0.14668609201908112\n",
            "Step 50 Mean Batch Score 0.14668609201908112\n",
            "Step 60 Mean Batch Score 0.14668609201908112\n",
            "Step 70 Mean Batch Score 0.14668609201908112\n",
            "Step 80 Mean Batch Score 0.14668609201908112\n",
            "Step 90 Mean Batch Score 0.14668609201908112\n"
          ]
        }
      ],
      "source": [
        "iterations_vanilla = 100\n",
        "step_size = 0.003\n",
        "batch_size = 200\n",
        "mala_steps = 1000\n",
        "\n",
        "# Vanilla Cut Optimizer\n",
        "with device:\n",
        "\n",
        "  net = FastSlowMixture(dimension, 1.)\n",
        "  # Define Optimizer\n",
        "  opt = torch.optim.Adam(net.parameters(), lr=step_size)\n",
        "\n",
        "  # Define MALA sampler\n",
        "  mala_sampler = Sampler(net, (dimension,), sample_size=batch_size, max_len=8192, is_cold=True)\n",
        "\n",
        "  out, losses_vanilla = vanilla_cut_optimizer(net, opt, mala_sampler, mala_steps=mala_steps,\n",
        "                                              iterations=iterations_vanilla, L=L)\n",
        "vanilla_scores.append(out)\n",
        "vanilla_trajectories.append(losses_vanilla)\n"
      ]
    },
    {
      "cell_type": "markdown",
      "metadata": {
        "id": "LpiRz2J3Mr2n"
      },
      "source": [
        "# Hot/Cold + Regularization"
      ]
    },
    {
      "cell_type": "code",
      "execution_count": null,
      "metadata": {
        "colab": {
          "background_save": true,
          "base_uri": "https://localhost:8080/"
        },
        "id": "8tPF04yULxXG",
        "outputId": "22e2493d-727d-4ac0-d22d-f840cc41984e"
      },
      "outputs": [
        {
          "name": "stdout",
          "output_type": "stream",
          "text": [
            "Step 0 The score of hot samples  0.0019945658277720213 2502.22998046875\n",
            "Step 0 The score of cold samples -0.0032109934836626053 2496.409912109375\n",
            "Step 10 The score of hot samples  0.002379168989136815 2502.659912109375\n",
            "Step 10 The score of cold samples 0.1463998407125473 2663.679931640625\n",
            "Step 20 The score of hot samples  0.004203810356557369 2504.699951171875\n",
            "Step 20 The score of cold samples 0.15205268561840057 2670.0\n",
            "Step 30 The score of hot samples  -0.0008497051894664764 2499.050048828125\n",
            "Step 30 The score of cold samples 0.15922589600086212 2678.02001953125\n",
            "Step 40 The score of hot samples  0.0003846032777801156 2500.429931640625\n",
            "Step 40 The score of cold samples 0.16278566420078278 2682.0\n",
            "Step 50 The score of hot samples  -0.0006708252476528287 2499.25\n",
            "Step 50 The score of cold samples 0.16278566420078278 2682.0\n",
            "Step 60 The score of hot samples  -5.366273398976773e-05 2499.93994140625\n",
            "Step 60 The score of cold samples 0.16278566420078278 2682.0\n",
            "Step 70 The score of hot samples  0.0021734507754445076 2502.429931640625\n",
            "Step 70 The score of cold samples 0.16278566420078278 2682.0\n",
            "Step 80 The score of hot samples  -0.0005724301445297897 2499.360107421875\n",
            "Step 80 The score of cold samples 0.16278566420078278 2682.0\n",
            "Step 90 The score of hot samples  0.0005724282236769795 2500.639892578125\n",
            "Step 90 The score of cold samples 0.16278566420078278 2682.0\n",
            "Step 100 The score of hot samples  0.003210990456864238 2503.590087890625\n",
            "Step 100 The score of cold samples 0.16278566420078278 2682.0\n",
            "Step 110 The score of hot samples  0.0008497036178596318 2500.949951171875\n",
            "Step 110 The score of cold samples 0.16278566420078278 2682.0\n",
            "Step 120 The score of hot samples  0.00014311086852103472 2500.159912109375\n",
            "Step 120 The score of cold samples 0.16278566420078278 2682.0\n",
            "Step 130 The score of hot samples  -0.0008407604182139039 2499.06005859375\n",
            "Step 130 The score of cold samples 0.16278566420078278 2682.0\n",
            "Step 140 The score of hot samples  0.004293244332075119 2504.800048828125\n",
            "Step 140 The score of cold samples 0.16278566420078278 2682.0\n",
            "Step 150 The score of hot samples  0.0034614265896379948 2503.8701171875\n",
            "Step 150 The score of cold samples 0.16278566420078278 2682.0\n",
            "Step 160 The score of hot samples  0.001332696876488626 2501.489990234375\n",
            "Step 160 The score of cold samples 0.16278566420078278 2682.0\n",
            "Step 170 The score of hot samples  -0.0020482430700212717 2497.7099609375\n",
            "Step 170 The score of cold samples 0.16278566420078278 2682.0\n",
            "Step 180 The score of hot samples  0.002307624788954854 2502.580078125\n",
            "Step 180 The score of cold samples 0.16278566420078278 2682.0\n",
            "Step 190 The score of hot samples  0.003479322185739875 2503.889892578125\n",
            "Step 190 The score of cold samples 0.16278566420078278 2682.0\n",
            "Step 200 The score of hot samples  -0.0017083546845242381 2498.090087890625\n",
            "Step 200 The score of cold samples 0.16278566420078278 2682.0\n",
            "Step 210 The score of hot samples  -0.0001609951286809519 2499.820068359375\n",
            "Step 210 The score of cold samples 0.16278566420078278 2682.0\n",
            "Step 220 The score of hot samples  -0.0017441310919821262 2498.050048828125\n",
            "Step 220 The score of cold samples 0.16278566420078278 2682.0\n",
            "Step 230 The score of hot samples  -0.00012521598546300083 2499.860107421875\n",
            "Step 230 The score of cold samples 0.16278566420078278 2682.0\n",
            "Step 240 The score of hot samples  0.0011180404108017683 2501.25\n",
            "Step 240 The score of cold samples 0.16278566420078278 2682.0\n",
            "Step 250 The score of hot samples  0.0023881210945546627 2502.669921875\n",
            "Step 250 The score of cold samples 0.16278566420078278 2682.0\n",
            "Step 260 The score of hot samples  0.0040964693762362 2504.580078125\n",
            "Step 260 The score of cold samples 0.16278566420078278 2682.0\n",
            "Step 270 The score of hot samples  -0.0011806396069005132 2498.679931640625\n",
            "Step 270 The score of cold samples 0.16278566420078278 2682.0\n",
            "Step 280 The score of hot samples  -0.0011180286528542638 2498.75\n",
            "Step 280 The score of cold samples 0.16278566420078278 2682.0\n",
            "Step 290 The score of hot samples  0.0008944295113906264 2501.0\n",
            "Step 290 The score of cold samples 0.16278566420078278 2682.0\n"
          ]
        }
      ],
      "source": [
        "iterations_regularized = 300\n",
        "new_reg_value = .1\n",
        "reg_updates = 2\n",
        "reg_scaling = 1.5\n",
        "mix_prob = 0.1\n",
        "rho = 0.03\n",
        "\n",
        "with device:\n",
        "  net = FastSlowMixture(dimension, rho)\n",
        "\n",
        "  opt = torch.optim.Adam(net.parameters(), lr=step_size)\n",
        "\n",
        "  # Define MALA sampler\n",
        "  mala_sampler_cold = Sampler(net, (dimension,), sample_size=batch_size, max_len=8192, is_cold=True)\n",
        "  mala_sampler_hot = Sampler(net, (dimension,), sample_size=batch_size, max_len=8192, is_cold=False)\n",
        "\n",
        "  cold_out, losses_regularized = hot_cold_cut_optimizer(net,\n",
        "                                                        opt,\n",
        "                                                        mala_sampler_cold=mala_sampler_cold,\n",
        "                                                        mala_sampler_hot=mala_sampler_hot,\n",
        "                                                        mala_steps=mala_steps,\n",
        "                                                        iterations=iterations_regularized,\n",
        "                                                        L=L,\n",
        "                                                        reg_value=new_reg_value,\n",
        "                                                        reg_updates=reg_updates,\n",
        "                                                        reg_scaling=reg_scaling,\n",
        "                                                        mix_prob=mix_prob)\n",
        "\n",
        "reg_scores.append(cold_out)\n",
        "reg_trajectories.append(losses_regularized)"
      ]
    },
    {
      "cell_type": "code",
      "execution_count": null,
      "metadata": {
        "colab": {
          "base_uri": "https://localhost:8080/"
        },
        "id": "PhA5BqUVXifY",
        "outputId": "29f47170-8404-4a8d-d106-c1b2dcf10b92"
      },
      "outputs": [
        {
          "name": "stdout",
          "output_type": "stream",
          "text": [
            "0.8197926409578381\n"
          ]
        },
        {
          "data": {
            "text/plain": [
              "array([ 1., -1., -1.,  1.,  1., -1., -1.,  1.,  1., -1.,  1., -1.,  1.,\n",
              "        1.,  1., -1., -1., -1., -1., -1., -1., -1.,  1.,  1.,  1.,  1.,\n",
              "        1.,  1., -1.,  1., -1., -1., -1., -1., -1., -1.,  1.,  1.,  1.,\n",
              "       -1., -1., -1.,  1., -1., -1., -1.,  1., -1.,  1., -1., -1.,  1.,\n",
              "        1.,  1., -1.,  1., -1.,  1.,  1.,  1., -1., -1.,  1.,  1., -1.,\n",
              "        1., -1.,  1.,  1., -1.,  1.,  1., -1.,  1., -1.,  1., -1.,  1.,\n",
              "       -1., -1., -1.,  1.,  1.,  1.,  1.,  1., -1., -1.,  1., -1.,  1.,\n",
              "        1.,  1., -1., -1., -1.,  1., -1., -1.,  1., -1.,  1.,  1.,  1.,\n",
              "        1., -1., -1., -1., -1.,  1., -1.,  1.,  1., -1.,  1., -1., -1.,\n",
              "        1.,  1., -1., -1.,  1., -1.,  1., -1.,  1.,  1., -1., -1., -1.,\n",
              "        1.,  1.,  1., -1., -1., -1.,  1.,  1., -1., -1., -1.,  1., -1.,\n",
              "        1.,  1., -1., -1.,  1.,  1., -1., -1., -1.,  1.,  1.,  1.,  1.,\n",
              "        1.,  1., -1.,  1., -1., -1.,  1., -1., -1., -1., -1.,  1., -1.,\n",
              "        1., -1.,  1., -1.,  1., -1., -1., -1., -1., -1.,  1., -1.,  1.,\n",
              "        1.,  1.,  1., -1.,  1., -1.,  1., -1.,  1., -1.,  1.,  1.,  1.,\n",
              "        1.,  1.,  1.,  1.,  1.])"
            ]
          },
          "execution_count": 90,
          "metadata": {},
          "output_type": "execute_result"
        }
      ],
      "source": [
        "degree = 40\n",
        "dimension = 200\n",
        "G = nx.to_numpy_array(\n",
        "    nx.generators.random_graphs.random_regular_graph(degree, dimension)).astype(float)\n",
        "\n",
        "G = (np.diag(np.sum(G, axis=1)) - G)\n",
        "\n",
        "cut = goemans_williamson(G)\n",
        "P_value(cost(torch.tensor(G),torch.tensor([cut])), degree, dimension)\n",
        "cut"
      ]
    },
    {
      "cell_type": "code",
      "execution_count": null,
      "metadata": {
        "colab": {
          "base_uri": "https://localhost:8080/"
        },
        "id": "v-MqFU95Xrhz",
        "outputId": "b6564b26-c0c5-47b7-dbd1-dda83a01eda0"
      },
      "outputs": [
        {
          "data": {
            "text/plain": [
              "tensor([0.6103], dtype=torch.float64)"
            ]
          },
          "execution_count": 91,
          "metadata": {},
          "output_type": "execute_result"
        }
      ],
      "source": []
    },
    {
      "cell_type": "code",
      "execution_count": null,
      "metadata": {
        "id": "mivBL-iYXv30"
      },
      "outputs": [],
      "source": [
        "cost()"
      ]
    }
  ],
  "metadata": {
    "colab": {
      "provenance": []
    },
    "gpuClass": "standard",
    "kernelspec": {
      "display_name": "Python 3",
      "language": "python",
      "name": "python3"
    },
    "language_info": {
      "codemirror_mode": {
        "name": "ipython",
        "version": 3
      },
      "file_extension": ".py",
      "mimetype": "text/x-python",
      "name": "python",
      "nbconvert_exporter": "python",
      "pygments_lexer": "ipython3",
      "version": "3.10.4"
    },
    "vscode": {
      "interpreter": {
        "hash": "aee8b7b246df8f9039afb4144a1f6fd8d2ca17a180786b69acc140d282b71a49"
      }
    }
  },
  "nbformat": 4,
  "nbformat_minor": 0
}